{
 "cells": [
  {
   "cell_type": "code",
   "execution_count": 1,
   "id": "b27f5027-17e5-4780-a995-ee4662f8ae1f",
   "metadata": {},
   "outputs": [],
   "source": [
    "import ipyvuetify as ipv\n",
    "import logging\n"
   ]
  },
  {
   "cell_type": "code",
   "execution_count": 2,
   "id": "9c2f8f19-9dcb-437a-baaa-42e089a481d7",
   "metadata": {},
   "outputs": [],
   "source": [
    "logging.debug(\"app render start\")\n",
    "\n",
    "app_bar = ipv.AppBar(color='blue', app=True, dark=True,\n",
    "                      clipped_left=True,\n",
    "                     children = [ipv.Icon(children=['mdi-home']),\n",
    "                                 ipv.Spacer(),\n",
    "                                 \"Home Page\",\n",
    "                                 ipv.Spacer()])\n",
    "nav_bar =ipv.NavigationDrawer(color='black', app=True, dark=True,\n",
    "                                   clipped=True,\n",
    "                             children=[ipv.Btn(children=['Option 1']),\n",
    "                                      ipv.Btn(children=['Option 2']),\n",
    "                                      ipv.Btn(children=['Option 3']),\n",
    "                                      ])\n",
    " \n",
    "btn = ipv.Btn(children=['Hello Pfizer'], color='primary')\n",
    "app = ipv.App(children=[app_bar,nav_bar,\n",
    "                       ipv.Content(children=[btn])\n",
    "                       ])\n",
    "\n",
    "\n",
    "logging.debug(\"app render end\")"
   ]
  },
  {
   "cell_type": "code",
   "execution_count": 3,
   "id": "a9c9524d-3e87-4377-8879-2baf9de92eac",
   "metadata": {},
   "outputs": [
    {
     "data": {
      "application/vnd.jupyter.widget-view+json": {
       "model_id": "b387949da2634b3b90637d9bf5b2864e",
       "version_major": 2,
       "version_minor": 0
      },
      "text/plain": [
       "App(children=[AppBar(app=True, children=[Icon(children=['mdi-home']), Spacer(), 'Home Page', Spacer()], clippe…"
      ]
     },
     "metadata": {},
     "output_type": "display_data"
    }
   ],
   "source": [
    "display(app)"
   ]
  },
  {
   "cell_type": "code",
   "execution_count": null,
   "id": "4b5a69d9-74af-4d16-ba6f-0154c2ec7cc9",
   "metadata": {},
   "outputs": [],
   "source": []
  }
 ],
 "metadata": {
  "kernelspec": {
   "display_name": "Python 3 (ipykernel)",
   "language": "python",
   "name": "python3"
  },
  "language_info": {
   "codemirror_mode": {
    "name": "ipython",
    "version": 3
   },
   "file_extension": ".py",
   "mimetype": "text/x-python",
   "name": "python",
   "nbconvert_exporter": "python",
   "pygments_lexer": "ipython3",
   "version": "3.7.17"
  }
 },
 "nbformat": 4,
 "nbformat_minor": 5
}
